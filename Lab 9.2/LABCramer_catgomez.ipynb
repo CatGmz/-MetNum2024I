{
  "nbformat": 4,
  "nbformat_minor": 0,
  "metadata": {
    "colab": {
      "provenance": [],
      "include_colab_link": true
    },
    "kernelspec": {
      "name": "python3",
      "display_name": "Python 3"
    },
    "language_info": {
      "name": "python"
    }
  },
  "cells": [
    {
      "cell_type": "markdown",
      "metadata": {
        "id": "view-in-github",
        "colab_type": "text"
      },
      "source": [
        "<a href=\"https://colab.research.google.com/github/CatGmz/MetNumUN2024I/blob/main/Lab%209.2/LABCramer_catgomez.ipynb\" target=\"_parent\"><img src=\"https://colab.research.google.com/assets/colab-badge.svg\" alt=\"Open In Colab\"/></a>"
      ]
    },
    {
      "cell_type": "markdown",
      "source": [
        "### Cramer by hand\n",
        "\n",
        "$$A = \\left[\n",
        "  \\begin{array}{cc}\n",
        "1 & 2\\\\\n",
        "3 & 4\n",
        "\\end{array}\n",
        "\\right],  \n",
        "b= \\left[\n",
        "\\begin{array}{c}\n",
        "5\\\\\n",
        "6\n",
        "\\end{array}\n",
        "\\right]\n",
        "$$\n",
        "$$\n",
        "Ax =B\n",
        "$$\n",
        "$$  \n",
        "\\left[\n",
        "  \\begin{array}{cc}\n",
        "1 & 2\\\\\n",
        "3 & 4\n",
        "\\end{array}\n",
        "\\right]\n",
        "\\left[\n",
        "\\begin{array}{c}\n",
        "x_1\\\\\n",
        "x_2\n",
        "\\end{array}\n",
        "\\right]  \n",
        "=\n",
        "\\left[\n",
        "\\begin{array}{c}\n",
        "5\\\\\n",
        "6\n",
        "\\end{array}\n",
        "\\right]\n",
        "$$\n",
        "\n",
        "$$Det\\ A =  (1 * 4) - (3 * 2)  = 4 - 6 = -2$$\n",
        "\n",
        "$$A_1 = \\left[\n",
        "  \\begin{array}{cc}\n",
        "5 & 2\\\\\n",
        "6 & 4\n",
        "\\end{array}\n",
        "\\right]\n",
        "$$\n",
        "\n",
        "$$Det\\ A_1 = (5 * 4) - (6 * 2) = 20 - 12 =  8$$\n",
        "\n",
        "$$x_1 =  \\frac{Det\\ A_1}{Det\\ A}= \\frac{8}{-2} =  -4$$\n",
        "\n",
        "$$A_2 = \\left[\n",
        "  \\begin{array}{cc}\n",
        "1 & 5\\\\\n",
        "3 & 6\n",
        "\\end{array}\n",
        "\\right]\n",
        "$$\n",
        "\n",
        "$$Det\\ A_2 = (1*6) - (3*5)  = 6 -15 = -9$$\n",
        "\n",
        "$$x_2 = \\frac{Det\\ A_2}{Det\\ A}= \\frac{-9}{-2} =  \\frac{9}{2}$$"
      ],
      "metadata": {
        "id": "SUmNm2PmfHU7"
      }
    },
    {
      "cell_type": "markdown",
      "source": [
        "- ***Adding a single digit to any number requires about 7.30 bits of processing.*** - World Mental Calculation: News and Resources for Competitive and Advanced Mental Calculation https://worldmentalcalculation.com/2019/06/30/fastest-possible-processing-speed-of-the-human-brain/\n",
        "\n",
        "- ***The human brain can process 11 million bits of information every second. But our conscious minds can handle only 40 to 50 bits of information a second.*** - Understanding Unconscious Bias https://www.npr.org/2020/07/14/891140598/understanding-unconscious-bias\n",
        "\n",
        "- ***A new way to analyze human reaction times shows that the brain processes data no faster than 60 bits per second.***- New Measure of Human Brain Processing Speed https://www.technologyreview.com/2009/08/25/210267/new-measure-of-human-brain-processing-speed/\n",
        "\n",
        "\n"
      ],
      "metadata": {
        "id": "3rH8z64pk2XV"
      }
    },
    {
      "cell_type": "markdown",
      "source": [
        "# Number of operations to compute a determinant by cofactor expasion\n",
        "- Cofactor expansion https://people.math.carleton.ca/~kcheung/math/notes/MATH1107/07/07_cofactor_expansion.html\n",
        "## Definition of A(i∣j)\n",
        "Let $A$ be an $n\\times n$ matrix. Let $i,j \\in \\{1,…,n\\}$. We define $A(i∣j)$  to be the matrix obtained from $A$ by removing row $i$ and column $j$ from $A$.\n",
        "\n",
        "## Cofactor formula\n",
        "One way of computing the determinant of an $n\\times n$  matrix\n",
        "\n",
        "$$A = \\left[\n",
        "  \\begin{array}{cccc}\n",
        "a_{11} & a_{12} & \\cdots & a_{1n}\\\\\n",
        "a_{21} & a_{22} & \\cdots & a_{2n}\\\\\n",
        "\\vdots  & \\vdots & \\ddots & \\vdots\\\\\n",
        "a_{n1} & a_{n2} & \\cdots & a_{nn}\\\\\n",
        "\\end{array}\n",
        "\\right]\n",
        "$$\n",
        "is to use the following formula called the cofactor formula.\n",
        "\n",
        "Pick either any $i\\ \\in \\{1,…,n\\}$ (fixed row) or $i\\ \\in \\{1,…,n\\}$ (fixed column). Then\n",
        "\n",
        "$$\\det(A)  = \\sum_{j=1}^n (-1)^{i+j}a_{ij} \\det(A(i∣j)) $$\n",
        "\n",
        "\n",
        "$C_{i,j}= (-1)^{i+j}a_{ij} \\det(A(i∣j))$ is called a cofactor of $A$.\n",
        "\n",
        "$$\\det(A)  = \\sum_{j=1}^n C_{i,j} $$\n",
        "\n"
      ],
      "metadata": {
        "id": "CgrSIpDOnaGQ"
      }
    },
    {
      "cell_type": "code",
      "source": [
        "# Code from https://stackoverflow.com/questions/16510111/computing-determinant-of-a-matrix-nxn-recursively\n",
        "\n",
        "import numpy as np\n",
        "\n",
        "def smaller_matrix(original_matrix,row, column):\n",
        "    for ii in range(len(original_matrix)):\n",
        "        new_matrix=np.delete(original_matrix,ii,0)\n",
        "        new_matrix=np.delete(new_matrix,column,1)\n",
        "        return new_matrix\n",
        "\n",
        "\n",
        "def determinant(matrix):\n",
        "    \"\"\"Returns a determinant of a matrix by recursive method.\"\"\"\n",
        "    (r,c) = matrix.shape\n",
        "    if r != c:\n",
        "        print(\"Error!Not a square matrix!\")\n",
        "        return None\n",
        "    elif r==2:\n",
        "        simple_determinant = matrix[0][0]*matrix[1][1]-matrix[0][1]*matrix[1][0]\n",
        "        return simple_determinant\n",
        "    else:\n",
        "        answer=0\n",
        "        for j in range(r):\n",
        "            cofactor = (-1)**(0+j) * matrix[0][j] * determinant(smaller_matrix(matrix, 0, j))\n",
        "            answer+= cofactor\n",
        "        return answer"
      ],
      "metadata": {
        "id": "J-joKRBhC7eF"
      },
      "execution_count": null,
      "outputs": []
    },
    {
      "cell_type": "code",
      "source": [
        "#test the function\n",
        "#Only works for numpy.array input\n",
        "np.random.seed(1)"
      ],
      "metadata": {
        "id": "Il2pcRD4DptG"
      },
      "execution_count": null,
      "outputs": []
    },
    {
      "cell_type": "code",
      "source": [
        "n = 2\n",
        "matrix=np.random.randint(-5,5,size=(n,n))\n",
        "matrix"
      ],
      "metadata": {
        "colab": {
          "base_uri": "https://localhost:8080/"
        },
        "id": "AgKC1-aiFRW2",
        "outputId": "4a6f1d49-038f-453b-e6dc-0c86d09ce50b"
      },
      "execution_count": null,
      "outputs": [
        {
          "output_type": "execute_result",
          "data": {
            "text/plain": [
              "array([[0, 3],\n",
              "       [4, 0]])"
            ]
          },
          "metadata": {},
          "execution_count": 36
        }
      ]
    },
    {
      "cell_type": "code",
      "source": [
        "determinant(matrix)"
      ],
      "metadata": {
        "colab": {
          "base_uri": "https://localhost:8080/"
        },
        "outputId": "b6848f7f-7ea2-4237-e7eb-b7c21e0ac442",
        "id": "oI0rUp-SDptH"
      },
      "execution_count": null,
      "outputs": [
        {
          "output_type": "execute_result",
          "data": {
            "text/plain": [
              "-12"
            ]
          },
          "metadata": {},
          "execution_count": 37
        }
      ]
    },
    {
      "cell_type": "code",
      "source": [
        "np.linalg.det(matrix)"
      ],
      "metadata": {
        "colab": {
          "base_uri": "https://localhost:8080/"
        },
        "id": "iqZv7iK-KKXH",
        "outputId": "1ce580f8-fe15-4968-f59a-dabafd461420"
      },
      "execution_count": null,
      "outputs": [
        {
          "output_type": "execute_result",
          "data": {
            "text/plain": [
              "-12.0"
            ]
          },
          "metadata": {},
          "execution_count": 38
        }
      ]
    },
    {
      "cell_type": "code",
      "source": [
        "round(np.linalg.det(matrix))"
      ],
      "metadata": {
        "colab": {
          "base_uri": "https://localhost:8080/"
        },
        "id": "sY21rHM-KdlO",
        "outputId": "936f670c-4c9a-4226-83f0-7cd0b00aab62"
      },
      "execution_count": null,
      "outputs": [
        {
          "output_type": "execute_result",
          "data": {
            "text/plain": [
              "-12"
            ]
          },
          "metadata": {},
          "execution_count": 39
        }
      ]
    },
    {
      "cell_type": "code",
      "source": [
        "n = 5\n",
        "matrix=np.diag(np.random.randint(-10,10,size=(n)))\n",
        "matrix"
      ],
      "metadata": {
        "colab": {
          "base_uri": "https://localhost:8080/"
        },
        "id": "-QXGZWFIDs5k",
        "outputId": "a9471c16-ad5e-46c5-aa7f-3d3f4729da9a"
      },
      "execution_count": null,
      "outputs": [
        {
          "output_type": "execute_result",
          "data": {
            "text/plain": [
              "array([[  5,   0,   0,   0,   0],\n",
              "       [  0, -10,   0,   0,   0],\n",
              "       [  0,   0,   6,   0,   0],\n",
              "       [  0,   0,   0,  -9,   0],\n",
              "       [  0,   0,   0,   0,   2]])"
            ]
          },
          "metadata": {},
          "execution_count": 40
        }
      ]
    },
    {
      "cell_type": "code",
      "source": [
        "determinant(matrix)"
      ],
      "metadata": {
        "colab": {
          "base_uri": "https://localhost:8080/"
        },
        "id": "VP6hRwhwD-3W",
        "outputId": "47d106b5-6e20-459a-99f0-e0268d68aa19"
      },
      "execution_count": null,
      "outputs": [
        {
          "output_type": "execute_result",
          "data": {
            "text/plain": [
              "5400"
            ]
          },
          "metadata": {},
          "execution_count": 41
        }
      ]
    },
    {
      "cell_type": "code",
      "source": [
        "np.linalg.det(matrix)"
      ],
      "metadata": {
        "colab": {
          "base_uri": "https://localhost:8080/"
        },
        "id": "8NV7Zvp-KtRz",
        "outputId": "bb51090a-5d60-4a58-af1e-bb0a32901155"
      },
      "execution_count": null,
      "outputs": [
        {
          "output_type": "execute_result",
          "data": {
            "text/plain": [
              "5400.000000000003"
            ]
          },
          "metadata": {},
          "execution_count": 42
        }
      ]
    },
    {
      "cell_type": "code",
      "source": [
        "round(np.linalg.det(matrix))"
      ],
      "metadata": {
        "colab": {
          "base_uri": "https://localhost:8080/"
        },
        "id": "HXKK3weLKt5T",
        "outputId": "6efd5722-21be-4bf9-aa80-bdb4018ded28"
      },
      "execution_count": null,
      "outputs": [
        {
          "output_type": "execute_result",
          "data": {
            "text/plain": [
              "5400"
            ]
          },
          "metadata": {},
          "execution_count": 43
        }
      ]
    },
    {
      "cell_type": "code",
      "source": [
        "# Modified from the previous code\n",
        "import numpy as np\n",
        "\n",
        "# A a squared numpy matrix\n",
        "def det(A):\n",
        "    \"\"\"Returns a determinant of a matrix by recursive method.\"\"\"\n",
        "    (r,c) = A.shape\n",
        "    if r != c:\n",
        "        print(\"Error!Not a square matrix!\")\n",
        "        return None\n",
        "    elif r==1:\n",
        "          # the code with  r==2 is more efficient but we use this\n",
        "         # because the number of operations is easier to compute\n",
        "        return A[0][0]\n",
        "    else:\n",
        "        answer=0\n",
        "        for j in range(r):\n",
        "            s = 1 if (0+j)%2 == 0 else -1\n",
        "            Aij = np.delete(A,0,0)\n",
        "            Aij = np.delete(Aij,j,1)\n",
        "            cofactor = (s) * A[0][j] * det(Aij)\n",
        "            answer+= cofactor\n",
        "        return answer"
      ],
      "metadata": {
        "id": "B258g8lnBgnG"
      },
      "execution_count": null,
      "outputs": []
    },
    {
      "cell_type": "code",
      "source": [
        "#test the function\n",
        "#Only works for numpy.array input\n",
        "np.random.seed(1)"
      ],
      "metadata": {
        "id": "ZR2mjlqiGdM6"
      },
      "execution_count": null,
      "outputs": []
    },
    {
      "cell_type": "code",
      "source": [
        "n = 2\n",
        "A=np.random.randint(-5,5,size=(n,n))\n",
        "A"
      ],
      "metadata": {
        "colab": {
          "base_uri": "https://localhost:8080/"
        },
        "outputId": "f8e053ef-6f63-4732-cc0e-68dd173676be",
        "id": "jPpBCFaoGlak"
      },
      "execution_count": null,
      "outputs": [
        {
          "output_type": "execute_result",
          "data": {
            "text/plain": [
              "array([[0, 3],\n",
              "       [4, 0]])"
            ]
          },
          "metadata": {},
          "execution_count": 46
        }
      ]
    },
    {
      "cell_type": "code",
      "source": [
        "det(A)"
      ],
      "metadata": {
        "colab": {
          "base_uri": "https://localhost:8080/"
        },
        "outputId": "ca2892d8-987e-427f-c947-73ffa892820f",
        "id": "WKbuirZeGlak"
      },
      "execution_count": null,
      "outputs": [
        {
          "output_type": "execute_result",
          "data": {
            "text/plain": [
              "-12"
            ]
          },
          "metadata": {},
          "execution_count": 47
        }
      ]
    },
    {
      "cell_type": "code",
      "source": [
        "determinant(A)"
      ],
      "metadata": {
        "colab": {
          "base_uri": "https://localhost:8080/"
        },
        "id": "_B5xBFirTvQm",
        "outputId": "18f99a50-c687-4086-c75c-25e231427da8"
      },
      "execution_count": null,
      "outputs": [
        {
          "output_type": "execute_result",
          "data": {
            "text/plain": [
              "-12"
            ]
          },
          "metadata": {},
          "execution_count": 48
        }
      ]
    },
    {
      "cell_type": "code",
      "source": [
        "np.linalg.det(A)"
      ],
      "metadata": {
        "colab": {
          "base_uri": "https://localhost:8080/"
        },
        "outputId": "0c754856-639e-4433-fb02-48ece86664a2",
        "id": "bRyF2dsFLbXC"
      },
      "execution_count": null,
      "outputs": [
        {
          "output_type": "execute_result",
          "data": {
            "text/plain": [
              "-12.0"
            ]
          },
          "metadata": {},
          "execution_count": 49
        }
      ]
    },
    {
      "cell_type": "code",
      "source": [
        "round(np.linalg.det(A))"
      ],
      "metadata": {
        "colab": {
          "base_uri": "https://localhost:8080/"
        },
        "outputId": "d4b925dd-0f97-4da6-8a9a-d369f459439b",
        "id": "sOe1w9FPLbXD"
      },
      "execution_count": null,
      "outputs": [
        {
          "output_type": "execute_result",
          "data": {
            "text/plain": [
              "-12"
            ]
          },
          "metadata": {},
          "execution_count": 50
        }
      ]
    },
    {
      "cell_type": "code",
      "source": [
        "n = 10\n",
        "\n",
        "A=np.random.randint(-10,10,size=(n,n))\n",
        "\n",
        "A"
      ],
      "metadata": {
        "colab": {
          "base_uri": "https://localhost:8080/"
        },
        "outputId": "46faaa6c-d029-4710-d49d-a2a6b1401ccd",
        "id": "jzFX1soHGlak"
      },
      "execution_count": null,
      "outputs": [
        {
          "output_type": "execute_result",
          "data": {
            "text/plain": [
              "array([[  5, -10,   6,  -9,   2,  -3,   3,  -4,   8,  -5],\n",
              "       [  8,   1,   0,   4,   8,  -6,  -1,   7, -10,   3],\n",
              "       [ -1,  -1,  -3,  -9, -10,   7,  -2,   3,   9,   5],\n",
              "       [  0,  -2,  -3,  -7,  -4,   7,  -7,  -6,   7,   1],\n",
              "       [  2,   6,   3,   9,  -1,   8,   5, -10,  -6,   5],\n",
              "       [ -8,  -3,  -2,  -1,  -7,  -3,  -6,  -5,   9,  -4],\n",
              "       [ -2, -10,  -8,   0,   5,   5,  -3,   9,   0,   4],\n",
              "       [-10,  -9,   7,   3,  -7, -10,   3,  -4,  -4,  -8],\n",
              "       [  2,   1,  -3,   3,  -2,   1,   2,   1,  -6,  -3],\n",
              "       [ -3,   3,  -6,   6,   8, -10,   3,   0,   7,  -3]])"
            ]
          },
          "metadata": {},
          "execution_count": 51
        }
      ]
    },
    {
      "cell_type": "code",
      "source": [
        "import time\n",
        "\n",
        "start_time = time.time()\n",
        "d = det(A)\n",
        "end_time = time.time()"
      ],
      "metadata": {
        "id": "I97qAqxGGlak"
      },
      "execution_count": null,
      "outputs": []
    },
    {
      "cell_type": "code",
      "source": [
        "print(\"det(A): \",d)\n",
        "print(\"time: \",end_time - start_time)"
      ],
      "metadata": {
        "colab": {
          "base_uri": "https://localhost:8080/"
        },
        "id": "s7Ud-gBiTD0n",
        "outputId": "d1cd119d-e170-46c8-c4ca-ebf432b6d376"
      },
      "execution_count": null,
      "outputs": [
        {
          "output_type": "stream",
          "name": "stdout",
          "text": [
            "det(A):  29129065307\n",
            "time:  77.39920783042908\n"
          ]
        }
      ]
    },
    {
      "cell_type": "code",
      "source": [
        "import time\n",
        "\n",
        "start_time = time.time()\n",
        "d = determinant(A)\n",
        "end_time = time.time()"
      ],
      "metadata": {
        "id": "kjLXFQOeTRd2"
      },
      "execution_count": null,
      "outputs": []
    },
    {
      "cell_type": "code",
      "source": [
        "print(\"determinant(A): \",d)\n",
        "print(\"time: \",end_time - start_time)"
      ],
      "metadata": {
        "colab": {
          "base_uri": "https://localhost:8080/"
        },
        "id": "_TQFWy4ZSiDZ",
        "outputId": "fe3e5383-1786-495a-f474-7ac4cddc5b14"
      },
      "execution_count": null,
      "outputs": [
        {
          "output_type": "stream",
          "name": "stdout",
          "text": [
            "determinant(A):  29129065307\n",
            "time:  35.02712106704712\n"
          ]
        }
      ]
    },
    {
      "cell_type": "code",
      "source": [
        "import time\n",
        "\n",
        "start_time = time.time()\n",
        "d = np.linalg.det(A)\n",
        "end_time = time.time()"
      ],
      "metadata": {
        "id": "jL23i77VT55-"
      },
      "execution_count": null,
      "outputs": []
    },
    {
      "cell_type": "code",
      "source": [
        "print(\"np.linalg.det(A): \",d)\n",
        "print(\"time: \",end_time - start_time)"
      ],
      "metadata": {
        "colab": {
          "base_uri": "https://localhost:8080/"
        },
        "id": "n94nx14VT5wn",
        "outputId": "80a0d002-e9ce-4c14-9604-7b82b86c070c"
      },
      "execution_count": null,
      "outputs": [
        {
          "output_type": "stream",
          "name": "stdout",
          "text": [
            "np.linalg.det(A):  29129065306.99992\n",
            "time:  0.0003056526184082031\n"
          ]
        }
      ]
    },
    {
      "cell_type": "markdown",
      "source": [
        "# Estimating the time by instruction in Python in a Colab machine"
      ],
      "metadata": {
        "id": "Ssedt2z56DNC"
      }
    },
    {
      "cell_type": "code",
      "source": [
        "import numpy as np\n",
        "\n",
        "n = 100\n",
        "\n",
        "A = np.ones((n,n))\n",
        "\n",
        "A"
      ],
      "metadata": {
        "colab": {
          "base_uri": "https://localhost:8080/"
        },
        "id": "1KhlyeNi4uwa",
        "outputId": "daf5a3d5-616d-4811-ef88-17061a45f56b"
      },
      "execution_count": null,
      "outputs": [
        {
          "output_type": "execute_result",
          "data": {
            "text/plain": [
              "array([[1., 1., 1., ..., 1., 1., 1.],\n",
              "       [1., 1., 1., ..., 1., 1., 1.],\n",
              "       [1., 1., 1., ..., 1., 1., 1.],\n",
              "       ...,\n",
              "       [1., 1., 1., ..., 1., 1., 1.],\n",
              "       [1., 1., 1., ..., 1., 1., 1.],\n",
              "       [1., 1., 1., ..., 1., 1., 1.]])"
            ]
          },
          "metadata": {},
          "execution_count": 7
        }
      ]
    },
    {
      "cell_type": "code",
      "source": [
        "B = np.ones((n,n))\n",
        "\n",
        "B"
      ],
      "metadata": {
        "colab": {
          "base_uri": "https://localhost:8080/"
        },
        "id": "RKtHO3UY5M87",
        "outputId": "b4dfe81d-11f8-482a-d2a3-dde69af54aa0"
      },
      "execution_count": null,
      "outputs": [
        {
          "output_type": "execute_result",
          "data": {
            "text/plain": [
              "array([[1., 1., 1., ..., 1., 1., 1.],\n",
              "       [1., 1., 1., ..., 1., 1., 1.],\n",
              "       [1., 1., 1., ..., 1., 1., 1.],\n",
              "       ...,\n",
              "       [1., 1., 1., ..., 1., 1., 1.],\n",
              "       [1., 1., 1., ..., 1., 1., 1.],\n",
              "       [1., 1., 1., ..., 1., 1., 1.]])"
            ]
          },
          "metadata": {},
          "execution_count": 8
        }
      ]
    },
    {
      "cell_type": "code",
      "source": [
        "import time\n",
        "\n",
        "C= np.zeros((n,n))\n",
        "\n",
        "start_time = time.time()\n",
        "for i in range(n):\n",
        "        for j in range(n):\n",
        "            C[i][j] = 0\n",
        "            for k in range(len(A[0])):\n",
        "                C[i][j] += A[i][k] * B[k][j]\n",
        "end_time = time.time()\n",
        "print(end_time - start_time)"
      ],
      "metadata": {
        "colab": {
          "base_uri": "https://localhost:8080/"
        },
        "id": "0UFSLi-F5P0a",
        "outputId": "991b45a0-9644-42b6-f6b0-6c2d89520013"
      },
      "execution_count": null,
      "outputs": [
        {
          "output_type": "stream",
          "name": "stdout",
          "text": [
            "1.1359033584594727\n"
          ]
        }
      ]
    },
    {
      "cell_type": "code",
      "source": [
        "C"
      ],
      "metadata": {
        "colab": {
          "base_uri": "https://localhost:8080/"
        },
        "id": "h9zr4Z9P61bs",
        "outputId": "a629f0aa-0932-4128-c44f-0731d91b4b34"
      },
      "execution_count": null,
      "outputs": [
        {
          "output_type": "execute_result",
          "data": {
            "text/plain": [
              "array([[100., 100., 100., ..., 100., 100., 100.],\n",
              "       [100., 100., 100., ..., 100., 100., 100.],\n",
              "       [100., 100., 100., ..., 100., 100., 100.],\n",
              "       ...,\n",
              "       [100., 100., 100., ..., 100., 100., 100.],\n",
              "       [100., 100., 100., ..., 100., 100., 100.],\n",
              "       [100., 100., 100., ..., 100., 100., 100.]])"
            ]
          },
          "metadata": {},
          "execution_count": 11
        }
      ]
    },
    {
      "cell_type": "code",
      "source": [
        "time_by_oper_python = (end_time - start_time)/(2*n**3 - n**2)\n",
        "\n",
        "time_by_oper_python"
      ],
      "metadata": {
        "colab": {
          "base_uri": "https://localhost:8080/"
        },
        "id": "iEhaMEK77Ko7",
        "outputId": "87d9f92b-7aa0-4bb2-a6f8-3eddb5a52300"
      },
      "execution_count": null,
      "outputs": [
        {
          "output_type": "execute_result",
          "data": {
            "text/plain": [
              "5.708057077685792e-07"
            ]
          },
          "metadata": {},
          "execution_count": 22
        }
      ]
    },
    {
      "cell_type": "code",
      "source": [
        "import time\n",
        "import numpy as np\n",
        "\n",
        "start_time = time.time()\n",
        "C = A@B\n",
        "end_time = time.time()\n",
        "print(end_time - start_time)"
      ],
      "metadata": {
        "colab": {
          "base_uri": "https://localhost:8080/"
        },
        "id": "TfGsw6UF9o-a",
        "outputId": "c3be2bd3-fb0a-44f4-ea5d-fc1061d743c7"
      },
      "execution_count": null,
      "outputs": [
        {
          "output_type": "stream",
          "name": "stdout",
          "text": [
            "0.001438140869140625\n"
          ]
        }
      ]
    },
    {
      "cell_type": "code",
      "source": [
        "C"
      ],
      "metadata": {
        "colab": {
          "base_uri": "https://localhost:8080/"
        },
        "id": "Q5MtZtVT93oQ",
        "outputId": "3d766f10-d8b4-4635-8f8f-ae6f74b713a9"
      },
      "execution_count": null,
      "outputs": [
        {
          "output_type": "execute_result",
          "data": {
            "text/plain": [
              "array([[100., 100., 100., ..., 100., 100., 100.],\n",
              "       [100., 100., 100., ..., 100., 100., 100.],\n",
              "       [100., 100., 100., ..., 100., 100., 100.],\n",
              "       ...,\n",
              "       [100., 100., 100., ..., 100., 100., 100.],\n",
              "       [100., 100., 100., ..., 100., 100., 100.],\n",
              "       [100., 100., 100., ..., 100., 100., 100.]])"
            ]
          },
          "metadata": {},
          "execution_count": 17
        }
      ]
    },
    {
      "cell_type": "code",
      "source": [
        "time_by_oper_numpy = (end_time - start_time)/(2*n**3 - n**2)\n",
        "\n",
        "time_by_oper_numpy"
      ],
      "metadata": {
        "colab": {
          "base_uri": "https://localhost:8080/"
        },
        "id": "DTVYQYxT-TsJ",
        "outputId": "161f7fd8-f393-4d62-ee3c-5091895c4b32"
      },
      "execution_count": null,
      "outputs": [
        {
          "output_type": "execute_result",
          "data": {
            "text/plain": [
              "7.226838538395101e-10"
            ]
          },
          "metadata": {},
          "execution_count": 25
        }
      ]
    },
    {
      "cell_type": "markdown",
      "source": [
        "# Time estimation for the digital computer computation of a 3 x 3 matrix determinant by cofactor expansion\n",
        "\n",
        "The number of operations $(+,-,*)$ perfomed  *det(A)* algorithm that calculates\n",
        "\n",
        "$$\\det(A)  = \\sum_{j=1}^n (-1)^{i+j}a_{ij} \\det(A(i∣j)) $$\n",
        "\n",
        "is given by\n",
        "\n",
        "$$\\begin{array}{lll}\n",
        "T(n) & =&  nT(n-1) + 5n , T(1) = 1\\\\\n",
        "\\end{array}\n",
        "$$\n",
        "\n",
        "$$\\begin{array}{lll}\n",
        "T(n) & =&  nT(n-1) + 5n\\\\\n",
        "     & =&  n[(n-1) T(n-2) + 5 (n-1) +10] + 5n  \\\\\n",
        "     & =&  n(n-1) T(n-2) + 5 n  (n-1) + 5n \\\\\n",
        "     & =&  n(n-1) [(n-2) T(n-3) + 5 (n-2)] + 5 n(n-1) + 5n\\\\\n",
        "     & = & n(n-1)(n-2) T(n-3) + 5n(n-1)(n-2)+  5 n  (n-1) + 5n \\\\\n",
        "     & \\vdots\\\\\n",
        "     & = &  n(n-1)(n-2)\\cdots (n -(n-2))  T(1) + [5n(n-1)(n-2)(n-3)\\cdots (n -(n-3))] + \\cdots + [5 n (n-1)]+ 5n \\\\\n",
        "    & = & n! + [5n(n-1)(n-2)(n-3)\\cdots 2] + [5n(n-1)(n-2)(n-3)\\cdots 3]+ \\cdots +[5 n (n-1) (n-3)] + [5 n (n-1)]+ 5n  \n",
        "\\end{array}\n",
        "$$\n",
        "\n",
        "$$T(n) = n! + 5 \\sum_{i=0}^{n-1} n!/i! = n! + 5 n!\\sum_{i=0}^{n-1} \\frac{1}{i!} < n! + 5 e n! < 16 n!  $$\n",
        "\n",
        "1. Asumming that an arithmetic operation takes the *time_by_oper_python* estimated before,  what is the maximun square matrix size for which the deteminant can be computed with cofactor extesion in $\\le$ 3 minute. Report the time at [LABCramer](https://docs.google.com/spreadsheets/d/1JNUbuj3QHcyPmp8i6kNreUFucj2mOvKHkCFHHy7zfws/edit?usp=sharing).\n",
        "\n",
        "2. Run an experiment with a random matrix of that size and report the time at [LABCramer](https://docs.google.com/spreadsheets/d/1JNUbuj3QHcyPmp8i6kNreUFucj2mOvKHkCFHHy7zfws/edit?usp=sharing).\n",
        "\n",
        "If the determinant of a $n \\times n$ square matrix takes $16 n!$ operations how much takes the Crammer solution of $n \\times n$ systems of linear equations?\n",
        "\n",
        "\n",
        "\n",
        "\n"
      ],
      "metadata": {
        "id": "PhAai3wzo_Tc"
      }
    },
    {
      "cell_type": "markdown",
      "source": [],
      "metadata": {
        "id": "1Q2_AgMR74mR"
      }
    },
    {
      "cell_type": "markdown",
      "source": [
        "# Time estimation for the human computer computation of a 3 x 3 matrix determinant by cofactor expansion\n",
        "\n",
        " Write a 3 x 3 matrix with the first element as your list number Mod 10 and the rest row by row 1,2,3,...9 skipimg the first element, by example if youir list number is 12, your list number Mod 10 is 2 and the matrix is\n",
        "$$A = \\left[\n",
        "  \\begin{array}{ccc}\n",
        "2 & 1 & 3\\\\\n",
        "4 & 5 & 6\\\\\n",
        "7 & 8 & 9\\\\\n",
        "\\end{array}\n",
        "\\right]\n",
        "$$\n",
        "Use a chronometer like http://online-stopwatch.chronme.com/ to estimate the time to compute the determinant by using the procedure in the follo wing exmaple (https://people.math.carleton.ca/~kcheung/math/notes/MATH1107/07/07_cofactor_expansion.html):<br />  \n",
        "Let\n",
        "$$A = \\begin{bmatrix} 10 & 2 & 3\\\\ 4 & 5 & 6\\\\ 7 & 8 & 9 \\end{bmatrix}$$\n",
        "we compute $\\det(A)$ by expanding along row $2$ as <br /> <br />\n",
        "$$\\begin{eqnarray} \\det(A) & = & (-1)^{2+1}A_{2,1}\\det(A(2 \\mid 1)) + (-1)^{2+2}A_{2,2}\\det(A(2 \\mid 2)) + (-1)^{2+3}A_{2,3}\\det(A(2 \\mid 3)) \\\\ & = & -10\\left|\\begin{matrix} 2 & 3 \\\\ 8 & 9\\end{matrix}\\right| + 5\\left|\\begin{matrix} 1 & 3 \\\\ 7 & 9\\end{matrix}\\right| - 6\\left|\\begin{matrix} 1 & 2 \\\\ 7 & 8\\end{matrix}\\right| \\\\ & = & -10(2\\cdot 9 - 3\\cdot 8) + 5(1 \\cdot 9- 3\\cdot 7) - 6(1\\cdot 8 - 2 \\cdot 7) \\\\ & = & 60 - 60 + 36 \\\\ & = & 36\\end{eqnarray}$$\n",
        "3. Report the time at [LABCramer](https://docs.google.com/spreadsheets/d/1JNUbuj3QHcyPmp8i6kNreUFucj2mOvKHkCFHHy7zfws/edit?usp=sharing)\n",
        "4. Report the value of the determinant at [LABCramer](https://docs.google.com/spreadsheets/d/1JNUbuj3QHcyPmp8i6kNreUFucj2mOvKHkCFHHy7zfws/edit?usp=sharing)\n"
      ],
      "metadata": {
        "id": "__brdhGadAXY"
      }
    },
    {
      "cell_type": "markdown",
      "source": [
        "# Determinante a mano\n",
        "\n",
        " 20 mod 10 = 0\n",
        "\n",
        "#Matriz\n",
        "$$A = \\left[\n",
        "  \\begin{array}{ccc}\n",
        "0 & 1 & 3\\\\\n",
        "4 & 5 & 6\\\\\n",
        "7 & 8 & 9\\\\\n",
        "\\end{array}\n",
        "\\right]\n",
        "$$\n",
        "\n",
        "#Determinante\n",
        "\n",
        "$$\\begin{eqnarray}\n",
        "\\det(A) & = & (-1)^{1+1}A_{1,1}\\det(A(1 \\mid 1)) + (-1)^{1+2}A_{1,2}\\det(A(1 \\mid 2)) + (-1)^{1+3}A_{1,3}\\det(A(1 \\mid 3)) \\\\\n",
        "& = & 0\\left|\\begin{matrix} 5 & 6 \\\\ 8 & 9\\end{matrix}\\right| - 1\\left|\\begin{matrix} 4 & 6 \\\\ 7 & 9\\end{matrix}\\right| + 3\\left|\\begin{matrix} 4 & 5 \\\\ 7 & 8\\end{matrix}\\right| \\\\\n",
        "& = & 0(5\\cdot 9 - 6\\cdot 8) - 1(4 \\cdot 9- 6\\cdot 7) + 3(4\\cdot 8 - 5 \\cdot 7) \\\\\n",
        "& = & 0(45 - 48) - 1(36 - 42) + 3(32 - 35) \\\\\n",
        "& = & 0(-3) - 1(-6) + 3(-3) \\\\\n",
        "& = & 0 + 6 - 9 \\\\\n",
        "& = & -3\n",
        "\\end{eqnarray}$$\n",
        "\n",
        "#Tiempo\n",
        "![image.png](data:image/png;base64,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)\n",
        "\n"
      ],
      "metadata": {
        "id": "9z0vtyetTmHe"
      }
    }
  ]
}